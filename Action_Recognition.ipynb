{
  "nbformat": 4,
  "nbformat_minor": 0,
  "metadata": {
    "colab": {
      "provenance": [],
      "gpuType": "T4",
      "collapsed_sections": [
        "NCVJC8NvOHPG"
      ],
      "authorship_tag": "ABX9TyMMlbzjeRR7it5bDzuJe1L6",
      "include_colab_link": true
    },
    "kernelspec": {
      "name": "python3",
      "display_name": "Python 3"
    },
    "language_info": {
      "name": "python"
    },
    "accelerator": "GPU"
  },
  "cells": [
    {
      "cell_type": "markdown",
      "metadata": {
        "id": "view-in-github",
        "colab_type": "text"
      },
      "source": [
        "<a href=\"https://colab.research.google.com/github/MarwanElsays/Action-Recognition/blob/main/Action_Recognition.ipynb\" target=\"_parent\"><img src=\"https://colab.research.google.com/assets/colab-badge.svg\" alt=\"Open In Colab\"/></a>"
      ]
    },
    {
      "cell_type": "markdown",
      "source": [
        "# **Action Recognition using ConvLSTM**"
      ],
      "metadata": {
        "id": "VEsiOgYKcKjJ"
      }
    },
    {
      "cell_type": "code",
      "source": [
        "import os\n",
        "import cv2\n",
        "import numpy as np\n",
        "from sklearn.model_selection import train_test_split\n",
        "from tensorflow.keras.utils import to_categorical, plot_model\n",
        "from tensorflow.keras.models import Sequential, load_model\n",
        "from tensorflow.keras.layers import (\n",
        "    ConvLSTM2D, MaxPooling3D, Flatten, Dense, BatchNormalization,\n",
        "    Dropout, TimeDistributed, Conv2D, Input\n",
        ")\n",
        "from tensorflow.keras.callbacks import ModelCheckpoint, EarlyStopping, ReduceLROnPlateau\n",
        "from tensorflow.keras.regularizers import l2\n",
        "from tensorflow.keras.optimizers import Adam"
      ],
      "metadata": {
        "id": "-GR7T3kZccn4"
      },
      "execution_count": 8,
      "outputs": []
    },
    {
      "cell_type": "markdown",
      "source": [
        "## Download UCF50 dataset"
      ],
      "metadata": {
        "id": "orK-aYnvbaPk"
      }
    },
    {
      "cell_type": "code",
      "source": [
        "%%capture\n",
        "\n",
        "# !pip install yt-dlp\n",
        "\n",
        "# Download the datset\n",
        "# !wget --no-check-certificate https://www.crcv.ucf.edu/data/UCF50.rar -O UCF50.rar\n",
        "\n",
        "# # extract the files\n",
        "# !unrar x UCF50.rar"
      ],
      "metadata": {
        "id": "X8hGwex5bniJ"
      },
      "execution_count": 9,
      "outputs": []
    },
    {
      "cell_type": "markdown",
      "source": [
        "## Extract vedio frames and labels"
      ],
      "metadata": {
        "id": "13uJGDPBShI2"
      }
    },
    {
      "cell_type": "code",
      "source": [
        "DATASET_DIR = '/content/UCF50/'\n",
        "IMG_SIZE = (128,128)\n",
        "SEQUENCE_LENGTH = 30\n",
        "BATCH_SIZE = 4\n",
        "CLASSES = ['JumpingJack','Punch','TaiChi']\n",
        "#CLASSES = sorted(os.listdir(DATASET_DIR))"
      ],
      "metadata": {
        "id": "QkSyb_glwfS1"
      },
      "execution_count": 10,
      "outputs": []
    },
    {
      "cell_type": "code",
      "source": [
        "def extract_video_frames(video_file):\n",
        "    cap = cv2.VideoCapture(video_file)\n",
        "    frames = []\n",
        "\n",
        "    total_frames = int(cap.get(cv2.CAP_PROP_FRAME_COUNT))  # Total number of frames in the video\n",
        "    step = max(1, total_frames // SEQUENCE_LENGTH)  # Calculate the step size to sample frames\n",
        "\n",
        "    frame_count = 0\n",
        "    while frame_count < total_frames:\n",
        "        cap.set(cv2.CAP_PROP_POS_FRAMES, frame_count)  # Set the frame position\n",
        "        ret, frame = cap.read()\n",
        "        if not ret:\n",
        "            break\n",
        "\n",
        "        # Resize the frame\n",
        "        frame_resized = cv2.resize(frame, IMG_SIZE)\n",
        "        # Normalize the frame (scaling pixel values to [0, 1])\n",
        "        frame_normalized = frame_resized / 255.0\n",
        "        frames.append(frame_normalized)\n",
        "\n",
        "        frame_count += step  # Increment frame count by step size\n",
        "\n",
        "    cap.release()\n",
        "\n",
        "    # Ensure the final output has exactly SEQUENCE_LENGTH frames\n",
        "    if len(frames) > SEQUENCE_LENGTH:\n",
        "        frames = frames[:SEQUENCE_LENGTH]  # Truncate extra frames\n",
        "\n",
        "    return np.array(frames)\n",
        "\n",
        "# Function to process all videos in the dataset and separate data and labels\n",
        "def extract_all_frames_and_labels(dataset_path,classes):\n",
        "    all_frames = []\n",
        "    all_labels = []\n",
        "\n",
        "    for label, category in enumerate(classes):\n",
        "        print(f\"Processing category: {category}\")\n",
        "        category_path = os.path.join(dataset_path, category)\n",
        "        if not os.path.isdir(category_path):\n",
        "            continue\n",
        "\n",
        "        for video_name in os.listdir(category_path):\n",
        "            video_path = os.path.join(category_path, video_name)\n",
        "\n",
        "            # Extract and process frames from the video\n",
        "            frames = extract_video_frames(video_path)\n",
        "            if frames.shape[0] == SEQUENCE_LENGTH:\n",
        "                all_frames.append(frames)\n",
        "                all_labels.append(label)\n",
        "\n",
        "    # Convert lists to NumPy arrays\n",
        "    all_frames = np.array(all_frames, dtype=np.float32)\n",
        "    all_labels = np.array(all_labels, dtype=np.int32)\n",
        "\n",
        "    return all_frames, all_labels"
      ],
      "metadata": {
        "id": "e7uHw8UpcvcN"
      },
      "execution_count": 11,
      "outputs": []
    },
    {
      "cell_type": "markdown",
      "source": [],
      "metadata": {
        "id": "pp2Qyp94IgZy"
      }
    },
    {
      "cell_type": "code",
      "source": [
        "all_frames, all_labels = extract_all_frames_and_labels(DATASET_DIR,CLASSES)\n",
        "all_labels = to_categorical(all_labels)"
      ],
      "metadata": {
        "id": "iXouavHTIo0D",
        "colab": {
          "base_uri": "https://localhost:8080/"
        },
        "outputId": "edd320ab-6854-4782-990c-bfaf9685ae28"
      },
      "execution_count": 12,
      "outputs": [
        {
          "output_type": "stream",
          "name": "stdout",
          "text": [
            "Processing category: JumpingJack\n",
            "Processing category: Punch\n",
            "Processing category: TaiChi\n"
          ]
        }
      ]
    },
    {
      "cell_type": "code",
      "source": [
        "# print(all_frames[1])\n",
        "print(all_labels[1])"
      ],
      "metadata": {
        "colab": {
          "base_uri": "https://localhost:8080/"
        },
        "id": "4IfegTZEovcX",
        "outputId": "63fc32be-4d05-412e-8482-2f43c48fa27d"
      },
      "execution_count": 13,
      "outputs": [
        {
          "output_type": "stream",
          "name": "stdout",
          "text": [
            "[1. 0. 0.]\n"
          ]
        }
      ]
    },
    {
      "cell_type": "code",
      "source": [
        "print(all_frames.shape)\n",
        "print(all_labels.shape)"
      ],
      "metadata": {
        "colab": {
          "base_uri": "https://localhost:8080/"
        },
        "id": "EXH3CPyIgK9O",
        "outputId": "392ef73c-950d-4e7c-8c60-0dee23946cb0"
      },
      "execution_count": 14,
      "outputs": [
        {
          "output_type": "stream",
          "name": "stdout",
          "text": [
            "(383, 30, 128, 128, 3)\n",
            "(383, 3)\n"
          ]
        }
      ]
    },
    {
      "cell_type": "code",
      "source": [
        "X_train, X_test, y_train, y_test = train_test_split(\n",
        "        all_frames, all_labels, test_size=0.1, shuffle = True,random_state=42\n",
        "    )"
      ],
      "metadata": {
        "id": "QlchcR3wo_Zv"
      },
      "execution_count": 15,
      "outputs": []
    },
    {
      "cell_type": "markdown",
      "source": [
        "## Create the model"
      ],
      "metadata": {
        "id": "qXl_xinXSYS-"
      }
    },
    {
      "cell_type": "code",
      "source": [
        "# Function to build the model\n",
        "def build_deep_convlstm(sequence_length, img_height, img_width, num_classes):\n",
        "\n",
        "    model = Sequential([\n",
        "        Input(shape=(sequence_length, img_height, img_width, 3), name='input_layer'),\n",
        "\n",
        "        ConvLSTM2D(30, kernel_size=(3, 3), padding='same', return_sequences=True,\n",
        "                   activation='tanh',recurrent_dropout=0.2),\n",
        "        BatchNormalization(),\n",
        "        MaxPooling3D(pool_size=(1, 2, 2), padding='same'),\n",
        "\n",
        "        ConvLSTM2D(25, kernel_size=(3, 3), padding='same', return_sequences=True,\n",
        "                   activation='tanh',recurrent_dropout=0.2),\n",
        "        BatchNormalization(),\n",
        "        MaxPooling3D(pool_size=(1, 2, 2), padding='same'),\n",
        "\n",
        "        ConvLSTM2D(15, kernel_size=(3, 3), padding='same', return_sequences=True,\n",
        "                   activation='tanh',recurrent_dropout=0.2),\n",
        "        BatchNormalization(),\n",
        "        MaxPooling3D(pool_size=(1, 2, 2), padding='same'),\n",
        "\n",
        "        ConvLSTM2D(10, kernel_size=(3, 3), padding='same', return_sequences=False,\n",
        "                   activation='tanh',recurrent_dropout=0.2),\n",
        "        BatchNormalization(),\n",
        "\n",
        "        Flatten(),\n",
        "        Dense(num_classes, activation='softmax')\n",
        "    ])\n",
        "\n",
        "    return model\n",
        "\n",
        "# Function to compile and prepare model\n",
        "def prepare_model(model, learning_rate=0.001):\n",
        "    optimizer = Adam(learning_rate=learning_rate)\n",
        "    model.compile(\n",
        "        optimizer=optimizer,\n",
        "        loss='categorical_crossentropy',\n",
        "        metrics=['accuracy']\n",
        "    )\n",
        "    return model\n",
        "\n",
        "# Create callbacks\n",
        "def get_callbacks(model_name):\n",
        "    return [\n",
        "        ModelCheckpoint(\n",
        "            f'best_{model_name}.keras',\n",
        "            monitor='val_loss',\n",
        "            save_best_only=True,\n",
        "            mode='min'\n",
        "        ),\n",
        "        EarlyStopping(\n",
        "            monitor='val_loss',\n",
        "            patience=10,\n",
        "            restore_best_weights=True,\n",
        "            mode='min'\n",
        "        ),\n",
        "        # ReduceLROnPlateau(\n",
        "        #     monitor='val_loss',\n",
        "        #     factor=0.2,\n",
        "        #     patience=5,\n",
        "        #     min_lr=1e-6\n",
        "        # )\n",
        "    ]"
      ],
      "metadata": {
        "id": "1pUong-cWN7C"
      },
      "execution_count": 16,
      "outputs": []
    },
    {
      "cell_type": "code",
      "source": [
        "model = build_deep_convlstm(SEQUENCE_LENGTH, IMG_SIZE[0], IMG_SIZE[1], len(CLASSES))\n",
        "model = prepare_model(model)"
      ],
      "metadata": {
        "id": "p6X0oDrOgXno"
      },
      "execution_count": 17,
      "outputs": []
    },
    {
      "cell_type": "markdown",
      "source": [
        "### Model Summary"
      ],
      "metadata": {
        "id": "JC8a1QuAi1xL"
      }
    },
    {
      "cell_type": "code",
      "source": [
        "#plot_model(model, to_file='model_architecture.png', show_shapes=True, show_layer_names=True, dpi=60)"
      ],
      "metadata": {
        "collapsed": true,
        "id": "YQavVnL7iwcv"
      },
      "execution_count": 18,
      "outputs": []
    },
    {
      "cell_type": "code",
      "source": [
        "model.summary()"
      ],
      "metadata": {
        "colab": {
          "base_uri": "https://localhost:8080/",
          "height": 609
        },
        "id": "PfjY_HUwljvw",
        "outputId": "5832bf51-e3d2-4cce-ebf9-509b26496b32"
      },
      "execution_count": 19,
      "outputs": [
        {
          "output_type": "display_data",
          "data": {
            "text/plain": [
              "\u001b[1mModel: \"sequential\"\u001b[0m\n"
            ],
            "text/html": [
              "<pre style=\"white-space:pre;overflow-x:auto;line-height:normal;font-family:Menlo,'DejaVu Sans Mono',consolas,'Courier New',monospace\"><span style=\"font-weight: bold\">Model: \"sequential\"</span>\n",
              "</pre>\n"
            ]
          },
          "metadata": {}
        },
        {
          "output_type": "display_data",
          "data": {
            "text/plain": [
              "┏━━━━━━━━━━━━━━━━━━━━━━━━━━━━━━━━━━━━━━┳━━━━━━━━━━━━━━━━━━━━━━━━━━━━━┳━━━━━━━━━━━━━━━━━┓\n",
              "┃\u001b[1m \u001b[0m\u001b[1mLayer (type)                        \u001b[0m\u001b[1m \u001b[0m┃\u001b[1m \u001b[0m\u001b[1mOutput Shape               \u001b[0m\u001b[1m \u001b[0m┃\u001b[1m \u001b[0m\u001b[1m        Param #\u001b[0m\u001b[1m \u001b[0m┃\n",
              "┡━━━━━━━━━━━━━━━━━━━━━━━━━━━━━━━━━━━━━━╇━━━━━━━━━━━━━━━━━━━━━━━━━━━━━╇━━━━━━━━━━━━━━━━━┩\n",
              "│ conv_lstm2d (\u001b[38;5;33mConvLSTM2D\u001b[0m)             │ (\u001b[38;5;45mNone\u001b[0m, \u001b[38;5;34m30\u001b[0m, \u001b[38;5;34m128\u001b[0m, \u001b[38;5;34m128\u001b[0m, \u001b[38;5;34m30\u001b[0m)    │          \u001b[38;5;34m35,760\u001b[0m │\n",
              "├──────────────────────────────────────┼─────────────────────────────┼─────────────────┤\n",
              "│ batch_normalization                  │ (\u001b[38;5;45mNone\u001b[0m, \u001b[38;5;34m30\u001b[0m, \u001b[38;5;34m128\u001b[0m, \u001b[38;5;34m128\u001b[0m, \u001b[38;5;34m30\u001b[0m)    │             \u001b[38;5;34m120\u001b[0m │\n",
              "│ (\u001b[38;5;33mBatchNormalization\u001b[0m)                 │                             │                 │\n",
              "├──────────────────────────────────────┼─────────────────────────────┼─────────────────┤\n",
              "│ max_pooling3d (\u001b[38;5;33mMaxPooling3D\u001b[0m)         │ (\u001b[38;5;45mNone\u001b[0m, \u001b[38;5;34m30\u001b[0m, \u001b[38;5;34m64\u001b[0m, \u001b[38;5;34m64\u001b[0m, \u001b[38;5;34m30\u001b[0m)      │               \u001b[38;5;34m0\u001b[0m │\n",
              "├──────────────────────────────────────┼─────────────────────────────┼─────────────────┤\n",
              "│ conv_lstm2d_1 (\u001b[38;5;33mConvLSTM2D\u001b[0m)           │ (\u001b[38;5;45mNone\u001b[0m, \u001b[38;5;34m30\u001b[0m, \u001b[38;5;34m64\u001b[0m, \u001b[38;5;34m64\u001b[0m, \u001b[38;5;34m25\u001b[0m)      │          \u001b[38;5;34m49,600\u001b[0m │\n",
              "├──────────────────────────────────────┼─────────────────────────────┼─────────────────┤\n",
              "│ batch_normalization_1                │ (\u001b[38;5;45mNone\u001b[0m, \u001b[38;5;34m30\u001b[0m, \u001b[38;5;34m64\u001b[0m, \u001b[38;5;34m64\u001b[0m, \u001b[38;5;34m25\u001b[0m)      │             \u001b[38;5;34m100\u001b[0m │\n",
              "│ (\u001b[38;5;33mBatchNormalization\u001b[0m)                 │                             │                 │\n",
              "├──────────────────────────────────────┼─────────────────────────────┼─────────────────┤\n",
              "│ max_pooling3d_1 (\u001b[38;5;33mMaxPooling3D\u001b[0m)       │ (\u001b[38;5;45mNone\u001b[0m, \u001b[38;5;34m30\u001b[0m, \u001b[38;5;34m32\u001b[0m, \u001b[38;5;34m32\u001b[0m, \u001b[38;5;34m25\u001b[0m)      │               \u001b[38;5;34m0\u001b[0m │\n",
              "├──────────────────────────────────────┼─────────────────────────────┼─────────────────┤\n",
              "│ conv_lstm2d_2 (\u001b[38;5;33mConvLSTM2D\u001b[0m)           │ (\u001b[38;5;45mNone\u001b[0m, \u001b[38;5;34m30\u001b[0m, \u001b[38;5;34m32\u001b[0m, \u001b[38;5;34m32\u001b[0m, \u001b[38;5;34m15\u001b[0m)      │          \u001b[38;5;34m21,660\u001b[0m │\n",
              "├──────────────────────────────────────┼─────────────────────────────┼─────────────────┤\n",
              "│ batch_normalization_2                │ (\u001b[38;5;45mNone\u001b[0m, \u001b[38;5;34m30\u001b[0m, \u001b[38;5;34m32\u001b[0m, \u001b[38;5;34m32\u001b[0m, \u001b[38;5;34m15\u001b[0m)      │              \u001b[38;5;34m60\u001b[0m │\n",
              "│ (\u001b[38;5;33mBatchNormalization\u001b[0m)                 │                             │                 │\n",
              "├──────────────────────────────────────┼─────────────────────────────┼─────────────────┤\n",
              "│ max_pooling3d_2 (\u001b[38;5;33mMaxPooling3D\u001b[0m)       │ (\u001b[38;5;45mNone\u001b[0m, \u001b[38;5;34m30\u001b[0m, \u001b[38;5;34m16\u001b[0m, \u001b[38;5;34m16\u001b[0m, \u001b[38;5;34m15\u001b[0m)      │               \u001b[38;5;34m0\u001b[0m │\n",
              "├──────────────────────────────────────┼─────────────────────────────┼─────────────────┤\n",
              "│ conv_lstm2d_3 (\u001b[38;5;33mConvLSTM2D\u001b[0m)           │ (\u001b[38;5;45mNone\u001b[0m, \u001b[38;5;34m16\u001b[0m, \u001b[38;5;34m16\u001b[0m, \u001b[38;5;34m10\u001b[0m)          │           \u001b[38;5;34m9,040\u001b[0m │\n",
              "├──────────────────────────────────────┼─────────────────────────────┼─────────────────┤\n",
              "│ batch_normalization_3                │ (\u001b[38;5;45mNone\u001b[0m, \u001b[38;5;34m16\u001b[0m, \u001b[38;5;34m16\u001b[0m, \u001b[38;5;34m10\u001b[0m)          │              \u001b[38;5;34m40\u001b[0m │\n",
              "│ (\u001b[38;5;33mBatchNormalization\u001b[0m)                 │                             │                 │\n",
              "├──────────────────────────────────────┼─────────────────────────────┼─────────────────┤\n",
              "│ flatten (\u001b[38;5;33mFlatten\u001b[0m)                    │ (\u001b[38;5;45mNone\u001b[0m, \u001b[38;5;34m2560\u001b[0m)                │               \u001b[38;5;34m0\u001b[0m │\n",
              "├──────────────────────────────────────┼─────────────────────────────┼─────────────────┤\n",
              "│ dense (\u001b[38;5;33mDense\u001b[0m)                        │ (\u001b[38;5;45mNone\u001b[0m, \u001b[38;5;34m3\u001b[0m)                   │           \u001b[38;5;34m7,683\u001b[0m │\n",
              "└──────────────────────────────────────┴─────────────────────────────┴─────────────────┘\n"
            ],
            "text/html": [
              "<pre style=\"white-space:pre;overflow-x:auto;line-height:normal;font-family:Menlo,'DejaVu Sans Mono',consolas,'Courier New',monospace\">┏━━━━━━━━━━━━━━━━━━━━━━━━━━━━━━━━━━━━━━┳━━━━━━━━━━━━━━━━━━━━━━━━━━━━━┳━━━━━━━━━━━━━━━━━┓\n",
              "┃<span style=\"font-weight: bold\"> Layer (type)                         </span>┃<span style=\"font-weight: bold\"> Output Shape                </span>┃<span style=\"font-weight: bold\">         Param # </span>┃\n",
              "┡━━━━━━━━━━━━━━━━━━━━━━━━━━━━━━━━━━━━━━╇━━━━━━━━━━━━━━━━━━━━━━━━━━━━━╇━━━━━━━━━━━━━━━━━┩\n",
              "│ conv_lstm2d (<span style=\"color: #0087ff; text-decoration-color: #0087ff\">ConvLSTM2D</span>)             │ (<span style=\"color: #00d7ff; text-decoration-color: #00d7ff\">None</span>, <span style=\"color: #00af00; text-decoration-color: #00af00\">30</span>, <span style=\"color: #00af00; text-decoration-color: #00af00\">128</span>, <span style=\"color: #00af00; text-decoration-color: #00af00\">128</span>, <span style=\"color: #00af00; text-decoration-color: #00af00\">30</span>)    │          <span style=\"color: #00af00; text-decoration-color: #00af00\">35,760</span> │\n",
              "├──────────────────────────────────────┼─────────────────────────────┼─────────────────┤\n",
              "│ batch_normalization                  │ (<span style=\"color: #00d7ff; text-decoration-color: #00d7ff\">None</span>, <span style=\"color: #00af00; text-decoration-color: #00af00\">30</span>, <span style=\"color: #00af00; text-decoration-color: #00af00\">128</span>, <span style=\"color: #00af00; text-decoration-color: #00af00\">128</span>, <span style=\"color: #00af00; text-decoration-color: #00af00\">30</span>)    │             <span style=\"color: #00af00; text-decoration-color: #00af00\">120</span> │\n",
              "│ (<span style=\"color: #0087ff; text-decoration-color: #0087ff\">BatchNormalization</span>)                 │                             │                 │\n",
              "├──────────────────────────────────────┼─────────────────────────────┼─────────────────┤\n",
              "│ max_pooling3d (<span style=\"color: #0087ff; text-decoration-color: #0087ff\">MaxPooling3D</span>)         │ (<span style=\"color: #00d7ff; text-decoration-color: #00d7ff\">None</span>, <span style=\"color: #00af00; text-decoration-color: #00af00\">30</span>, <span style=\"color: #00af00; text-decoration-color: #00af00\">64</span>, <span style=\"color: #00af00; text-decoration-color: #00af00\">64</span>, <span style=\"color: #00af00; text-decoration-color: #00af00\">30</span>)      │               <span style=\"color: #00af00; text-decoration-color: #00af00\">0</span> │\n",
              "├──────────────────────────────────────┼─────────────────────────────┼─────────────────┤\n",
              "│ conv_lstm2d_1 (<span style=\"color: #0087ff; text-decoration-color: #0087ff\">ConvLSTM2D</span>)           │ (<span style=\"color: #00d7ff; text-decoration-color: #00d7ff\">None</span>, <span style=\"color: #00af00; text-decoration-color: #00af00\">30</span>, <span style=\"color: #00af00; text-decoration-color: #00af00\">64</span>, <span style=\"color: #00af00; text-decoration-color: #00af00\">64</span>, <span style=\"color: #00af00; text-decoration-color: #00af00\">25</span>)      │          <span style=\"color: #00af00; text-decoration-color: #00af00\">49,600</span> │\n",
              "├──────────────────────────────────────┼─────────────────────────────┼─────────────────┤\n",
              "│ batch_normalization_1                │ (<span style=\"color: #00d7ff; text-decoration-color: #00d7ff\">None</span>, <span style=\"color: #00af00; text-decoration-color: #00af00\">30</span>, <span style=\"color: #00af00; text-decoration-color: #00af00\">64</span>, <span style=\"color: #00af00; text-decoration-color: #00af00\">64</span>, <span style=\"color: #00af00; text-decoration-color: #00af00\">25</span>)      │             <span style=\"color: #00af00; text-decoration-color: #00af00\">100</span> │\n",
              "│ (<span style=\"color: #0087ff; text-decoration-color: #0087ff\">BatchNormalization</span>)                 │                             │                 │\n",
              "├──────────────────────────────────────┼─────────────────────────────┼─────────────────┤\n",
              "│ max_pooling3d_1 (<span style=\"color: #0087ff; text-decoration-color: #0087ff\">MaxPooling3D</span>)       │ (<span style=\"color: #00d7ff; text-decoration-color: #00d7ff\">None</span>, <span style=\"color: #00af00; text-decoration-color: #00af00\">30</span>, <span style=\"color: #00af00; text-decoration-color: #00af00\">32</span>, <span style=\"color: #00af00; text-decoration-color: #00af00\">32</span>, <span style=\"color: #00af00; text-decoration-color: #00af00\">25</span>)      │               <span style=\"color: #00af00; text-decoration-color: #00af00\">0</span> │\n",
              "├──────────────────────────────────────┼─────────────────────────────┼─────────────────┤\n",
              "│ conv_lstm2d_2 (<span style=\"color: #0087ff; text-decoration-color: #0087ff\">ConvLSTM2D</span>)           │ (<span style=\"color: #00d7ff; text-decoration-color: #00d7ff\">None</span>, <span style=\"color: #00af00; text-decoration-color: #00af00\">30</span>, <span style=\"color: #00af00; text-decoration-color: #00af00\">32</span>, <span style=\"color: #00af00; text-decoration-color: #00af00\">32</span>, <span style=\"color: #00af00; text-decoration-color: #00af00\">15</span>)      │          <span style=\"color: #00af00; text-decoration-color: #00af00\">21,660</span> │\n",
              "├──────────────────────────────────────┼─────────────────────────────┼─────────────────┤\n",
              "│ batch_normalization_2                │ (<span style=\"color: #00d7ff; text-decoration-color: #00d7ff\">None</span>, <span style=\"color: #00af00; text-decoration-color: #00af00\">30</span>, <span style=\"color: #00af00; text-decoration-color: #00af00\">32</span>, <span style=\"color: #00af00; text-decoration-color: #00af00\">32</span>, <span style=\"color: #00af00; text-decoration-color: #00af00\">15</span>)      │              <span style=\"color: #00af00; text-decoration-color: #00af00\">60</span> │\n",
              "│ (<span style=\"color: #0087ff; text-decoration-color: #0087ff\">BatchNormalization</span>)                 │                             │                 │\n",
              "├──────────────────────────────────────┼─────────────────────────────┼─────────────────┤\n",
              "│ max_pooling3d_2 (<span style=\"color: #0087ff; text-decoration-color: #0087ff\">MaxPooling3D</span>)       │ (<span style=\"color: #00d7ff; text-decoration-color: #00d7ff\">None</span>, <span style=\"color: #00af00; text-decoration-color: #00af00\">30</span>, <span style=\"color: #00af00; text-decoration-color: #00af00\">16</span>, <span style=\"color: #00af00; text-decoration-color: #00af00\">16</span>, <span style=\"color: #00af00; text-decoration-color: #00af00\">15</span>)      │               <span style=\"color: #00af00; text-decoration-color: #00af00\">0</span> │\n",
              "├──────────────────────────────────────┼─────────────────────────────┼─────────────────┤\n",
              "│ conv_lstm2d_3 (<span style=\"color: #0087ff; text-decoration-color: #0087ff\">ConvLSTM2D</span>)           │ (<span style=\"color: #00d7ff; text-decoration-color: #00d7ff\">None</span>, <span style=\"color: #00af00; text-decoration-color: #00af00\">16</span>, <span style=\"color: #00af00; text-decoration-color: #00af00\">16</span>, <span style=\"color: #00af00; text-decoration-color: #00af00\">10</span>)          │           <span style=\"color: #00af00; text-decoration-color: #00af00\">9,040</span> │\n",
              "├──────────────────────────────────────┼─────────────────────────────┼─────────────────┤\n",
              "│ batch_normalization_3                │ (<span style=\"color: #00d7ff; text-decoration-color: #00d7ff\">None</span>, <span style=\"color: #00af00; text-decoration-color: #00af00\">16</span>, <span style=\"color: #00af00; text-decoration-color: #00af00\">16</span>, <span style=\"color: #00af00; text-decoration-color: #00af00\">10</span>)          │              <span style=\"color: #00af00; text-decoration-color: #00af00\">40</span> │\n",
              "│ (<span style=\"color: #0087ff; text-decoration-color: #0087ff\">BatchNormalization</span>)                 │                             │                 │\n",
              "├──────────────────────────────────────┼─────────────────────────────┼─────────────────┤\n",
              "│ flatten (<span style=\"color: #0087ff; text-decoration-color: #0087ff\">Flatten</span>)                    │ (<span style=\"color: #00d7ff; text-decoration-color: #00d7ff\">None</span>, <span style=\"color: #00af00; text-decoration-color: #00af00\">2560</span>)                │               <span style=\"color: #00af00; text-decoration-color: #00af00\">0</span> │\n",
              "├──────────────────────────────────────┼─────────────────────────────┼─────────────────┤\n",
              "│ dense (<span style=\"color: #0087ff; text-decoration-color: #0087ff\">Dense</span>)                        │ (<span style=\"color: #00d7ff; text-decoration-color: #00d7ff\">None</span>, <span style=\"color: #00af00; text-decoration-color: #00af00\">3</span>)                   │           <span style=\"color: #00af00; text-decoration-color: #00af00\">7,683</span> │\n",
              "└──────────────────────────────────────┴─────────────────────────────┴─────────────────┘\n",
              "</pre>\n"
            ]
          },
          "metadata": {}
        },
        {
          "output_type": "display_data",
          "data": {
            "text/plain": [
              "\u001b[1m Total params: \u001b[0m\u001b[38;5;34m124,063\u001b[0m (484.62 KB)\n"
            ],
            "text/html": [
              "<pre style=\"white-space:pre;overflow-x:auto;line-height:normal;font-family:Menlo,'DejaVu Sans Mono',consolas,'Courier New',monospace\"><span style=\"font-weight: bold\"> Total params: </span><span style=\"color: #00af00; text-decoration-color: #00af00\">124,063</span> (484.62 KB)\n",
              "</pre>\n"
            ]
          },
          "metadata": {}
        },
        {
          "output_type": "display_data",
          "data": {
            "text/plain": [
              "\u001b[1m Trainable params: \u001b[0m\u001b[38;5;34m123,903\u001b[0m (484.00 KB)\n"
            ],
            "text/html": [
              "<pre style=\"white-space:pre;overflow-x:auto;line-height:normal;font-family:Menlo,'DejaVu Sans Mono',consolas,'Courier New',monospace\"><span style=\"font-weight: bold\"> Trainable params: </span><span style=\"color: #00af00; text-decoration-color: #00af00\">123,903</span> (484.00 KB)\n",
              "</pre>\n"
            ]
          },
          "metadata": {}
        },
        {
          "output_type": "display_data",
          "data": {
            "text/plain": [
              "\u001b[1m Non-trainable params: \u001b[0m\u001b[38;5;34m160\u001b[0m (640.00 B)\n"
            ],
            "text/html": [
              "<pre style=\"white-space:pre;overflow-x:auto;line-height:normal;font-family:Menlo,'DejaVu Sans Mono',consolas,'Courier New',monospace\"><span style=\"font-weight: bold\"> Non-trainable params: </span><span style=\"color: #00af00; text-decoration-color: #00af00\">160</span> (640.00 B)\n",
              "</pre>\n"
            ]
          },
          "metadata": {}
        }
      ]
    },
    {
      "cell_type": "markdown",
      "source": [
        "### Train Model"
      ],
      "metadata": {
        "id": "pSqkWghNmxlr"
      }
    },
    {
      "cell_type": "code",
      "source": [
        "# model = load_model('best_deep_convlstm_model.keras')"
      ],
      "metadata": {
        "id": "tfTSVafo8GIZ"
      },
      "execution_count": 20,
      "outputs": []
    },
    {
      "cell_type": "code",
      "source": [
        "history = model.fit(\n",
        "    X_train, y_train,\n",
        "    epochs=20,\n",
        "    batch_size=BATCH_SIZE,\n",
        "    shuffle=True,\n",
        "    validation_split=0.2,\n",
        "    callbacks=get_callbacks(\"deep_convlstm_model\"),\n",
        "    verbose=1\n",
        ")"
      ],
      "metadata": {
        "colab": {
          "base_uri": "https://localhost:8080/"
        },
        "id": "6cW0Obvjm0W4",
        "outputId": "70ece81c-f19c-4908-fae4-9ee1be36f6e8"
      },
      "execution_count": 21,
      "outputs": [
        {
          "output_type": "stream",
          "name": "stdout",
          "text": [
            "Epoch 1/20\n",
            "\u001b[1m69/69\u001b[0m \u001b[32m━━━━━━━━━━━━━━━━━━━━\u001b[0m\u001b[37m\u001b[0m \u001b[1m90s\u001b[0m 864ms/step - accuracy: 0.5889 - loss: 1.0804 - val_accuracy: 0.4493 - val_loss: 0.9248\n",
            "Epoch 2/20\n",
            "\u001b[1m69/69\u001b[0m \u001b[32m━━━━━━━━━━━━━━━━━━━━\u001b[0m\u001b[37m\u001b[0m \u001b[1m31s\u001b[0m 455ms/step - accuracy: 0.8110 - loss: 0.4073 - val_accuracy: 0.6232 - val_loss: 0.9131\n",
            "Epoch 3/20\n",
            "\u001b[1m69/69\u001b[0m \u001b[32m━━━━━━━━━━━━━━━━━━━━\u001b[0m\u001b[37m\u001b[0m \u001b[1m42s\u001b[0m 472ms/step - accuracy: 0.8831 - loss: 0.3379 - val_accuracy: 0.7246 - val_loss: 0.7171\n",
            "Epoch 4/20\n",
            "\u001b[1m69/69\u001b[0m \u001b[32m━━━━━━━━━━━━━━━━━━━━\u001b[0m\u001b[37m\u001b[0m \u001b[1m40s\u001b[0m 461ms/step - accuracy: 0.9433 - loss: 0.2139 - val_accuracy: 0.7536 - val_loss: 0.6084\n",
            "Epoch 5/20\n",
            "\u001b[1m69/69\u001b[0m \u001b[32m━━━━━━━━━━━━━━━━━━━━\u001b[0m\u001b[37m\u001b[0m \u001b[1m41s\u001b[0m 463ms/step - accuracy: 0.9105 - loss: 0.2123 - val_accuracy: 0.7681 - val_loss: 0.4534\n",
            "Epoch 6/20\n",
            "\u001b[1m69/69\u001b[0m \u001b[32m━━━━━━━━━━━━━━━━━━━━\u001b[0m\u001b[37m\u001b[0m \u001b[1m41s\u001b[0m 465ms/step - accuracy: 0.9743 - loss: 0.1034 - val_accuracy: 0.8261 - val_loss: 0.4850\n",
            "Epoch 7/20\n",
            "\u001b[1m69/69\u001b[0m \u001b[32m━━━━━━━━━━━━━━━━━━━━\u001b[0m\u001b[37m\u001b[0m \u001b[1m42s\u001b[0m 478ms/step - accuracy: 0.9724 - loss: 0.0965 - val_accuracy: 0.5507 - val_loss: 2.5776\n",
            "Epoch 8/20\n",
            "\u001b[1m69/69\u001b[0m \u001b[32m━━━━━━━━━━━━━━━━━━━━\u001b[0m\u001b[37m\u001b[0m \u001b[1m33s\u001b[0m 481ms/step - accuracy: 0.9370 - loss: 0.1712 - val_accuracy: 0.6812 - val_loss: 2.1299\n",
            "Epoch 9/20\n",
            "\u001b[1m69/69\u001b[0m \u001b[32m━━━━━━━━━━━━━━━━━━━━\u001b[0m\u001b[37m\u001b[0m \u001b[1m40s\u001b[0m 468ms/step - accuracy: 0.9652 - loss: 0.1024 - val_accuracy: 0.7971 - val_loss: 0.6833\n",
            "Epoch 10/20\n",
            "\u001b[1m69/69\u001b[0m \u001b[32m━━━━━━━━━━━━━━━━━━━━\u001b[0m\u001b[37m\u001b[0m \u001b[1m42s\u001b[0m 481ms/step - accuracy: 0.9641 - loss: 0.0788 - val_accuracy: 0.7826 - val_loss: 0.8187\n",
            "Epoch 11/20\n",
            "\u001b[1m69/69\u001b[0m \u001b[32m━━━━━━━━━━━━━━━━━━━━\u001b[0m\u001b[37m\u001b[0m \u001b[1m40s\u001b[0m 469ms/step - accuracy: 0.9415 - loss: 0.1478 - val_accuracy: 0.7536 - val_loss: 0.6771\n",
            "Epoch 12/20\n",
            "\u001b[1m69/69\u001b[0m \u001b[32m━━━━━━━━━━━━━━━━━━━━\u001b[0m\u001b[37m\u001b[0m \u001b[1m33s\u001b[0m 472ms/step - accuracy: 0.9956 - loss: 0.0212 - val_accuracy: 0.8261 - val_loss: 0.3800\n",
            "Epoch 13/20\n",
            "\u001b[1m69/69\u001b[0m \u001b[32m━━━━━━━━━━━━━━━━━━━━\u001b[0m\u001b[37m\u001b[0m \u001b[1m41s\u001b[0m 469ms/step - accuracy: 0.9981 - loss: 0.0262 - val_accuracy: 0.7971 - val_loss: 0.7037\n",
            "Epoch 14/20\n",
            "\u001b[1m69/69\u001b[0m \u001b[32m━━━━━━━━━━━━━━━━━━━━\u001b[0m\u001b[37m\u001b[0m \u001b[1m42s\u001b[0m 482ms/step - accuracy: 0.9807 - loss: 0.0479 - val_accuracy: 0.8116 - val_loss: 0.5742\n",
            "Epoch 15/20\n",
            "\u001b[1m69/69\u001b[0m \u001b[32m━━━━━━━━━━━━━━━━━━━━\u001b[0m\u001b[37m\u001b[0m \u001b[1m41s\u001b[0m 482ms/step - accuracy: 0.9898 - loss: 0.0363 - val_accuracy: 0.8696 - val_loss: 0.4695\n",
            "Epoch 16/20\n",
            "\u001b[1m69/69\u001b[0m \u001b[32m━━━━━━━━━━━━━━━━━━━━\u001b[0m\u001b[37m\u001b[0m \u001b[1m33s\u001b[0m 483ms/step - accuracy: 0.9812 - loss: 0.0451 - val_accuracy: 0.8696 - val_loss: 0.4386\n",
            "Epoch 17/20\n",
            "\u001b[1m69/69\u001b[0m \u001b[32m━━━━━━━━━━━━━━━━━━━━\u001b[0m\u001b[37m\u001b[0m \u001b[1m41s\u001b[0m 482ms/step - accuracy: 1.0000 - loss: 0.0081 - val_accuracy: 0.8986 - val_loss: 0.4086\n",
            "Epoch 18/20\n",
            "\u001b[1m69/69\u001b[0m \u001b[32m━━━━━━━━━━━━━━━━━━━━\u001b[0m\u001b[37m\u001b[0m \u001b[1m40s\u001b[0m 471ms/step - accuracy: 1.0000 - loss: 0.0155 - val_accuracy: 0.9275 - val_loss: 0.3011\n",
            "Epoch 19/20\n",
            "\u001b[1m69/69\u001b[0m \u001b[32m━━━━━━━━━━━━━━━━━━━━\u001b[0m\u001b[37m\u001b[0m \u001b[1m33s\u001b[0m 485ms/step - accuracy: 0.9978 - loss: 0.0142 - val_accuracy: 0.8841 - val_loss: 0.2893\n",
            "Epoch 20/20\n",
            "\u001b[1m69/69\u001b[0m \u001b[32m━━━━━━━━━━━━━━━━━━━━\u001b[0m\u001b[37m\u001b[0m \u001b[1m41s\u001b[0m 483ms/step - accuracy: 0.9841 - loss: 0.0432 - val_accuracy: 0.9420 - val_loss: 0.4053\n"
          ]
        }
      ]
    },
    {
      "cell_type": "markdown",
      "source": [
        "## Graph"
      ],
      "metadata": {
        "id": "omnK0o6axZrD"
      }
    },
    {
      "cell_type": "code",
      "source": [
        "import matplotlib.pyplot as plt"
      ],
      "metadata": {
        "id": "bjOlm2mAxh8_"
      },
      "execution_count": 22,
      "outputs": []
    },
    {
      "cell_type": "code",
      "source": [
        "# Extract loss and validation loss from history\n",
        "loss = history.history['loss']\n",
        "val_loss = history.history['val_loss']\n",
        "\n",
        "# Plot loss vs validation loss\n",
        "plt.figure(figsize=(8, 6))\n",
        "plt.plot(loss, label='Training Loss')\n",
        "plt.plot(val_loss, label='Validation Loss')\n",
        "plt.title('Training and Validation Loss')\n",
        "plt.xlabel('Epochs')\n",
        "plt.ylabel('Loss')\n",
        "plt.legend()\n",
        "plt.grid(True)\n",
        "plt.show()"
      ],
      "metadata": {
        "colab": {
          "base_uri": "https://localhost:8080/",
          "height": 564
        },
        "id": "9IGB31mKxoCu",
        "outputId": "ba694c13-6ec4-430d-c54b-eaa066d923f7"
      },
      "execution_count": 23,
      "outputs": [
        {
          "output_type": "display_data",
          "data": {
            "text/plain": [
              "<Figure size 800x600 with 1 Axes>"
            ],
            "image/png": "[encoded data removed]"
          },
          "metadata": {}
        }
      ]
    },
    {
      "cell_type": "markdown",
      "source": [
        "### Plot Accuracy and Validation Accuracy"
      ],
      "metadata": {
        "id": "X2yLOK21x23F"
      }
    },
    {
      "cell_type": "code",
      "source": [
        "# Extract accuracy and validation accuracy from history\n",
        "accuracy = history.history['accuracy']\n",
        "val_accuracy = history.history['val_accuracy']\n",
        "\n",
        "# Plot accuracy vs validation accuracy\n",
        "plt.figure(figsize=(8, 6))\n",
        "plt.plot(accuracy, label='Training Accuracy')\n",
        "plt.plot(val_accuracy, label='Validation Accuracy')\n",
        "plt.title('Training and Validation Accuracy')\n",
        "plt.xlabel('Epochs')\n",
        "plt.ylabel('Accuracy')\n",
        "plt.legend()\n",
        "plt.grid(True)\n",
        "plt.show()"
      ],
      "metadata": {
        "colab": {
          "base_uri": "https://localhost:8080/",
          "height": 564
        },
        "id": "X0SJgibHxrgi",
        "outputId": "7bbfbf2b-7635-4f94-8aea-f6bedd71a59c"
      },
      "execution_count": 24,
      "outputs": [
        {
          "output_type": "display_data",
          "data": {
            "text/plain": [
              "<Figure size 800x600 with 1 Axes>"
            ],
            "image/png": "[encoded data removed]"
          },
          "metadata": {}
        }
      ]
    },
    {
      "cell_type": "markdown",
      "source": [
        "## Test the model"
      ],
      "metadata": {
        "id": "ntrZLxbM6nQ_"
      }
    },
    {
      "cell_type": "code",
      "source": [
        "test_loss, test_accuracy = model.evaluate(X_test, y_test, batch_size=4)\n",
        "print(f\"Test Loss: {test_loss}\")\n",
        "print(f\"Test Accuracy: {test_accuracy}\")"
      ],
      "metadata": {
        "colab": {
          "base_uri": "https://localhost:8080/"
        },
        "id": "2vaRnIsv6qKq",
        "outputId": "03dd6ab5-b3df-4fc9-b17b-6de895a4c467"
      },
      "execution_count": 25,
      "outputs": [
        {
          "output_type": "stream",
          "name": "stdout",
          "text": [
            "\u001b[1m10/10\u001b[0m \u001b[32m━━━━━━━━━━━━━━━━━━━━\u001b[0m\u001b[37m\u001b[0m \u001b[1m3s\u001b[0m 298ms/step - accuracy: 0.9784 - loss: 0.1052\n",
            "Test Loss: 0.13735906779766083\n",
            "Test Accuracy: 0.9743589758872986\n"
          ]
        }
      ]
    },
    {
      "cell_type": "markdown",
      "source": [
        "## Detect on vedios from youtube"
      ],
      "metadata": {
        "id": "_hfU_5uaSusI"
      }
    },
    {
      "cell_type": "code",
      "source": [
        "import yt_dlp\n",
        "\n",
        "# Function to download YouTube video\n",
        "def download_video(url, output_path='video.mp4'):\n",
        "    ydl_opts = {\n",
        "        'format': 'best',  # Best available quality\n",
        "        'outtmpl': output_path  # Save video with this filename\n",
        "    }\n",
        "    with yt_dlp.YoutubeDL(ydl_opts) as ydl:\n",
        "        ydl.download([url])\n",
        "\n"
      ],
      "metadata": {
        "id": "kGDP8xQCVQhJ"
      },
      "execution_count": 26,
      "outputs": []
    },
    {
      "cell_type": "code",
      "source": [
        "yt_vedios = {\n",
        "    \"taichi_vedio\" : \"https://youtube.com/shorts/phdEqjeMuR0?si=0ICoJ4_RYyFXioAU\",\n",
        "    \"punching_vedio\" : \"https://youtube.com/shorts/HUXMLUEtdd0?si=LW8DYw4U7SlO7deX\",\n",
        "    \"jumping_jack_vedio\" : \"https://youtube.com/shorts/yg3KQQn3QWg?si=NxHWyrZuPNGpNmap\"\n",
        "}\n",
        "\n",
        "# for k,v in yt_vedios.items():\n",
        "#     download_video(v, f'{k}.mp4')"
      ],
      "metadata": {
        "id": "j1HHQc2hSyhJ"
      },
      "execution_count": 33,
      "outputs": []
    },
    {
      "cell_type": "code",
      "source": [
        "from IPython.display import Video,display\n",
        "\n",
        "for k in yt_vedios.keys():\n",
        "    video_path = f'{k}.mp4'\n",
        "    frames = extract_video_frames(video_path)\n",
        "    frames = np.expand_dims(frames, axis=0)\n",
        "    predictions = model.predict(frames)\n",
        "    predicted_action = np.argmax(predictions)\n",
        "    action_label = CLASSES[predicted_action]\n",
        "    print(f\"Action predicted for {k}: {action_label}\")"
      ],
      "metadata": {
        "colab": {
          "base_uri": "https://localhost:8080/"
        },
        "id": "ihvuvmMXVenR",
        "outputId": "f0b9e44a-b1b7-41d9-ccaa-2f8a915ac7f5"
      },
      "execution_count": 41,
      "outputs": [
        {
          "output_type": "stream",
          "name": "stdout",
          "text": [
            "\u001b[1m1/1\u001b[0m \u001b[32m━━━━━━━━━━━━━━━━━━━━\u001b[0m\u001b[37m\u001b[0m \u001b[1m0s\u001b[0m 58ms/step\n",
            "Action predicted for taichi_vedio: TaiChi\n",
            "\u001b[1m1/1\u001b[0m \u001b[32m━━━━━━━━━━━━━━━━━━━━\u001b[0m\u001b[37m\u001b[0m \u001b[1m0s\u001b[0m 55ms/step\n",
            "Action predicted for punching_vedio: Punch\n",
            "\u001b[1m1/1\u001b[0m \u001b[32m━━━━━━━━━━━━━━━━━━━━\u001b[0m\u001b[37m\u001b[0m \u001b[1m0s\u001b[0m 55ms/step\n",
            "Action predicted for jumping_jack_vedio: JumpingJack\n"
          ]
        }
      ]
    },
    {
      "cell_type": "markdown",
      "source": [
        "## Detect on real time"
      ],
      "metadata": {
        "id": "NCVJC8NvOHPG"
      }
    },
    {
      "cell_type": "code",
      "source": [
        "# # Load the trained ConvLSTM model\n",
        "# model_path = \"best_deep_convlstm_model.keras\"  # Replace with the path to your model\n",
        "# model = load_model(model_path)\n",
        "\n",
        "# # Initialize sequence buffer\n",
        "# sequence_buffer = []\n",
        "\n",
        "# # Open the webcam\n",
        "# cap = cv2.VideoCapture(0)\n",
        "\n",
        "# if not cap.isOpened():\n",
        "#     print(\"Error: Unable to access the camera.\")\n",
        "#     exit()\n",
        "\n",
        "# while True:\n",
        "#     ret, frame = cap.read()\n",
        "#     if not ret:\n",
        "#         print(\"Failed to grab a frame. Exiting...\")\n",
        "#         break\n",
        "\n",
        "#     # Preprocess the frame\n",
        "#     resized_frame = cv2.resize(frame, IMG_SIZE)\n",
        "#     normalized_frame = resized_frame / 255.0    # Normalize pixel values to [0, 1]\n",
        "\n",
        "#     # Add frame to the sequence buffer\n",
        "#     sequence_buffer.append(normalized_frame)\n",
        "\n",
        "#     # Ensure the buffer has the correct number of frames\n",
        "#     if len(sequence_buffer) > SEQUENCE_LENGTH:\n",
        "#         sequence_buffer.pop(0)\n",
        "\n",
        "#     # Predict if we have enough frames\n",
        "#     if len(sequence_buffer) == SEQUENCE_LENGTH:\n",
        "#         # Convert the sequence to the required model input shape\n",
        "#         input_sequence = np.expand_dims(sequence_buffer, axis=0)  # Add batch dimension\n",
        "\n",
        "#         # Make predictions\n",
        "#         predictions = model.predict(input_sequence)\n",
        "#         predicted_action = np.argmax(predictions)  # Get the action with the highest probability\n",
        "#         action_label = CLASSES[predicted_action]\n",
        "\n",
        "#         # Display the action on the frame\n",
        "#         cv2.putText(frame, f\"Action: {action_label}\", (10, 50), cv2.FONT_HERSHEY_SIMPLEX,\n",
        "#                     1, (0, 255, 0), 2, cv2.LINE_AA)\n",
        "\n",
        "#     # Display the frame\n",
        "#     cv2.imshow(\"Real-Time ConvLSTM Action Recognition\", frame)\n",
        "\n",
        "#     # Exit on pressing 'q'\n",
        "#     if cv2.waitKey(1) & 0xFF == ord('q'):\n",
        "#         break\n",
        "\n",
        "# # Release resources\n",
        "# cap.release()\n",
        "# cv2.destroyAllWindows()"
      ],
      "metadata": {
        "id": "eOo4atU0OKPt"
      },
      "execution_count": 29,
      "outputs": []
    }
  ]
}